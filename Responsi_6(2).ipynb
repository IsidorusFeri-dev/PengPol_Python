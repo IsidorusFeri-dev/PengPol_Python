{
 "cells": [
  {
   "cell_type": "code",
   "execution_count": 3,
   "id": "8f01c56c",
   "metadata": {},
   "outputs": [],
   "source": [
    "# Definisi Matrik Transisi (states)\n",
    "states = ('Panas', 'Hujan', 'Berawan')\n",
    "\n",
    "#definisi Matriks Observasi / Matrik emisi\n",
    "observations = ('DenganPayung', 'TanpaPayung')\n",
    "\n",
    "# definisi Matriks priority\n",
    "start_probability = {'Panas' : 0.4, 'Hujan' : 0.3, 'Berawan' : 0.3}\n",
    "\n",
    "transition_probability = {\n",
    "    'Panas' : {'Panas': 0.8, 'Hujan': 0.05, 'Berawan': 0.15},\n",
    "    'Hujan' : {'Panas': 0.2, 'Hujan': 0.6, 'Berawan': 0.2},\n",
    "    'Berawan' : {'Panas': 0.2, 'Hujan': 0.3, 'Berawan': 0.5}\n",
    " }\n",
    "\n",
    "emission_probability = {\n",
    "    'Panas' : {'DenganPayung': 0.1, 'TanpaPayung': 0.9},\n",
    "   'Hujan' : {'DenganPayung': 0.8, 'TanpaPayung': 0.2},\n",
    "   'Berawan' : {'DenganPayung': 0.3, 'TanpaPayung': 0.7}\n",
    " }"
   ]
  },
  {
   "cell_type": "code",
   "execution_count": 4,
   "id": "69e0b5b7",
   "metadata": {},
   "outputs": [],
   "source": [
    "from hmmlearn import hmm\n",
    "import numpy as np\n",
    "\n",
    "models = hmm.MultinomialHMM(n_components=3)\n",
    "models.startprob_ = np.array([0.4, 0.3, 0.3])\n",
    "models.transmat_ = np.array([[0.8, 0.05, 0.15],\n",
    "                             [0.2, 0.6, 0.2],\n",
    "                             [0.2, 0.3, 0.5]])\n",
    "models.emissionprob_ = np.array([[0.1, 0.9],\n",
    "                                 [0.8, 0.2],\n",
    "                                 [0.3, 0.7]])"
   ]
  },
  {
   "cell_type": "code",
   "execution_count": 5,
   "id": "6b43f9c5",
   "metadata": {},
   "outputs": [
    {
     "data": {
      "text/plain": [
       "0.45089999999999997"
      ]
     },
     "execution_count": 5,
     "metadata": {},
     "output_type": "execute_result"
    }
   ],
   "source": [
    "# Hitung Nilai Probability {TP, TP}\n",
    "\n",
    "import numpy as np\n",
    "import math\n",
    "\n",
    "math.exp(models.score(np.array([[1,1]])))"
   ]
  },
  {
   "cell_type": "code",
   "execution_count": 6,
   "id": "010b86a7",
   "metadata": {},
   "outputs": [
    {
     "name": "stdout",
     "output_type": "stream",
     "text": [
      "0.004064256000000002\n",
      "[2 2 1 1 1]\n"
     ]
    }
   ],
   "source": [
    "# Tentukan state optimal untuk {TP,TP,DP,DP,DP}\n",
    "logprob, seq = models.decode(np.array([[1,1,0,0,0]]).transpose())\n",
    "print(math.exp(logprob))\n",
    "print(seq)"
   ]
  }
 ],
 "metadata": {
  "kernelspec": {
   "display_name": "Python 3",
   "language": "python",
   "name": "python3"
  },
  "language_info": {
   "codemirror_mode": {
    "name": "ipython",
    "version": 3
   },
   "file_extension": ".py",
   "mimetype": "text/x-python",
   "name": "python",
   "nbconvert_exporter": "python",
   "pygments_lexer": "ipython3",
   "version": "3.9.0"
  }
 },
 "nbformat": 4,
 "nbformat_minor": 5
}
