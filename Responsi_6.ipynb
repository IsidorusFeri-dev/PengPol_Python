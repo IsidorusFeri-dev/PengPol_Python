{
 "cells": [
  {
   "cell_type": "code",
   "execution_count": 1,
   "id": "086202d7",
   "metadata": {},
   "outputs": [
    {
     "name": "stdout",
     "output_type": "stream",
     "text": [
      "Collecting hmmlearn==0.2.2\n",
      "  Downloading hmmlearn-0.2.2.tar.gz (146 kB)\n",
      "\u001b[K     |████████████████████████████████| 146 kB 492 kB/s eta 0:00:01\n",
      "\u001b[?25hRequirement already satisfied: numpy>=1.10 in /Library/Frameworks/Python.framework/Versions/3.9/lib/python3.9/site-packages (from hmmlearn==0.2.2) (1.21.0)\n",
      "Requirement already satisfied: scikit-learn>=0.16 in /Library/Frameworks/Python.framework/Versions/3.9/lib/python3.9/site-packages (from hmmlearn==0.2.2) (0.24.2)\n",
      "Requirement already satisfied: threadpoolctl>=2.0.0 in /Library/Frameworks/Python.framework/Versions/3.9/lib/python3.9/site-packages (from scikit-learn>=0.16->hmmlearn==0.2.2) (2.1.0)\n",
      "Requirement already satisfied: joblib>=0.11 in /Library/Frameworks/Python.framework/Versions/3.9/lib/python3.9/site-packages (from scikit-learn>=0.16->hmmlearn==0.2.2) (1.0.1)\n",
      "Requirement already satisfied: scipy>=0.19.1 in /Library/Frameworks/Python.framework/Versions/3.9/lib/python3.9/site-packages (from scikit-learn>=0.16->hmmlearn==0.2.2) (1.7.0)\n",
      "Using legacy 'setup.py install' for hmmlearn, since package 'wheel' is not installed.\n",
      "Installing collected packages: hmmlearn\n",
      "    Running setup.py install for hmmlearn ... \u001b[?25ldone\n",
      "\u001b[?25hSuccessfully installed hmmlearn-0.2.2\n",
      "\u001b[33mWARNING: You are using pip version 20.2.3; however, version 21.1.3 is available.\n",
      "You should consider upgrading via the '/Library/Frameworks/Python.framework/Versions/3.9/bin/python3.9 -m pip install --upgrade pip' command.\u001b[0m\n",
      "Note: you may need to restart the kernel to use updated packages.\n"
     ]
    }
   ],
   "source": [
    "pip install hmmlearn==0.2.2"
   ]
  },
  {
   "cell_type": "code",
   "execution_count": null,
   "id": "2a91cbee",
   "metadata": {},
   "outputs": [],
   "source": [
    "# Definisi Matrik Transisi (states) .1 \n",
    "states = ('Raini', 'Sunny')\n",
    "\n",
    "# definisi Matriks Observasi / Matriks emisi\n",
    "observations = ('walk', 'shop', 'clean')\n",
    "\n",
    "# definisi Matriks Priority\n",
    "start_probability = {'Raini': 0.6, 'Sunny': 0.4}\n",
    "\n",
    "transition_probability =  {\n",
    "    'Rainy' : {'Rainy': 0.7, 'Sunny': 0.3},\n",
    "    'Sunny' : {'Rainy': 0.4, 'Sunny': 0.6},\n",
    "}\n",
    "\n",
    "emission_probability = {\n",
    "    'Rainy' : {'walk': 0.1, 'shop': 0.4, 'clean': 0.5},\n",
    "    'Sunny' : {'walk': 0.6, 'shop': 0.3, 'clean': 0.1},\n",
    "}"
   ]
  },
  {
   "cell_type": "code",
   "execution_count": 14,
   "id": "5e8b9c5f",
   "metadata": {},
   "outputs": [],
   "source": [
    "# Instalasi library dan representasi pada matrik .2\n",
    "\n",
    "# Library untuk HMM\n",
    "# Cara Install pip instal hmmlearn==0.2.2\n",
    "\n",
    "from hmmlearn import hmm\n",
    "import numpy as np\n",
    "\n",
    "models = hmm.MultinomialHMM(n_components=2)\n",
    "models.startprob_ = np.array([0.6, 0.4])\n",
    "models.transmat_ = np.array([[0.7, 0.3],\n",
    "                           [0.4, 0.6]])\n",
    "models.emissionprob_ = np.array([[0.1, 0.4, 0.5],\n",
    "                               [0.6, 0.3, 0.1]])"
   ]
  },
  {
   "cell_type": "code",
   "execution_count": 16,
   "id": "449ffd10",
   "metadata": {},
   "outputs": [
    {
     "data": {
      "text/plain": [
       "0.36000000000000004"
      ]
     },
     "execution_count": 16,
     "metadata": {},
     "output_type": "execute_result"
    }
   ],
   "source": [
    "# Menyelesaikan permasalahan 1 dari HMM\n",
    "\n",
    "# Given a known model what is the likelihood of sequence O happening?\n",
    "# The probability of the first observation being “Walk”equals to the multiplication \n",
    "# of the initial state distribution and emission probability matrix.\n",
    "# 0.6 x 0.1 + 0.4 x 0.6 = 0.30 (30%). \n",
    "# The log likelihood is provided from calling .score.\n",
    "# catatan {'walk','shop','clean' }\n",
    "# Kasus untuk initial state#\n",
    "# contoh untuk observasi 'walk'\n",
    "# peluang dari model jika observasi adalah 'walk'\n",
    "# 0.6x0.1+0.4x0.6=0.30(30%)\n",
    "\n",
    "import math\n",
    "math.exp(models.score(np.array([[0]])))\n",
    "\n",
    "# contoh untuk observasi 'shop'\n",
    "# peluang dari model jika ibservasi adalah 'shop'\n",
    "# 0.6 x 0.4 + 0.4 x 0.3 = (36%)\n",
    "\n",
    "math.exp(models.score(np.array([[1]])))"
   ]
  },
  {
   "cell_type": "code",
   "execution_count": 18,
   "id": "1b8346fc",
   "metadata": {},
   "outputs": [
    {
     "data": {
      "text/plain": [
       "0.3400000000000001"
      ]
     },
     "execution_count": 18,
     "metadata": {},
     "output_type": "execute_result"
    }
   ],
   "source": [
    "# contoh untuk observasi 'clean'\n",
    "# peluang dari model jika observasi adalah 'clean'\n",
    "# 0.6x0.5+0.4x0.1=(34%)\n",
    "\n",
    "math.exp(models.score(np.array([[2]])))"
   ]
  },
  {
   "cell_type": "code",
   "execution_count": 20,
   "id": "0d57a4f2",
   "metadata": {},
   "outputs": [
    {
     "data": {
      "text/plain": [
       "0.1244"
      ]
     },
     "execution_count": 20,
     "metadata": {},
     "output_type": "execute_result"
    }
   ],
   "source": [
    "# contoh untuk observasi {'clean','clean'}\n",
    "# peluang dari model jika observasi {'clean','clean'} adalah\n",
    "\n",
    "math.exp(models.score(np.array([[2,2]])))"
   ]
  },
  {
   "cell_type": "code",
   "execution_count": 26,
   "id": "c0da9a3b",
   "metadata": {},
   "outputs": [
    {
     "name": "stdout",
     "output_type": "stream",
     "text": [
      "0.015120000000000003\n",
      "[0 0 1]\n"
     ]
    }
   ],
   "source": [
    "# Menyelesaikan permasalahan 2 dari HMM dengan viterbi algorithm\n",
    "#====HMM decode dengan algoritma viterbi didalamnya======#\n",
    "\n",
    "logprob, seq =  models.decode(np.array([[1,2,0]]).transpose())\n",
    "print(math.exp(logprob))\n",
    "print(seq)"
   ]
  },
  {
   "cell_type": "code",
   "execution_count": 25,
   "id": "b7d259e8",
   "metadata": {},
   "outputs": [
    {
     "name": "stdout",
     "output_type": "stream",
     "text": [
      "0.03674999999999999\n",
      "[0 0 0]\n"
     ]
    }
   ],
   "source": [
    "logprob, seq = models.decode(np.array([[2,2,2]]).transpose())\n",
    "print(math.exp(logprob))\n",
    "print(seq)"
   ]
  },
  {
   "cell_type": "code",
   "execution_count": 27,
   "id": "4eb70240",
   "metadata": {},
   "outputs": [
    {
     "data": {
      "text/plain": [
       "0.004082395400000001"
      ]
     },
     "execution_count": 27,
     "metadata": {},
     "output_type": "execute_result"
    }
   ],
   "source": [
    "# 1. Peluang dari model jika observasi {'clean', 'clean', 'walk', 'walk', 'shop'} adalah\n",
    "\n",
    "math.exp(models.score(np.array([[2, 2, 0, 0, 1]])))"
   ]
  },
  {
   "cell_type": "code",
   "execution_count": 1,
   "id": "1006228a",
   "metadata": {},
   "outputs": [
    {
     "ename": "NameError",
     "evalue": "name 'models' is not defined",
     "output_type": "error",
     "traceback": [
      "\u001b[0;31m---------------------------------------------------------------------------\u001b[0m",
      "\u001b[0;31mNameError\u001b[0m                                 Traceback (most recent call last)",
      "\u001b[0;32m<ipython-input-1-46c9651eebb3>\u001b[0m in \u001b[0;36m<module>\u001b[0;34m\u001b[0m\n\u001b[1;32m      1\u001b[0m \u001b[0;31m# 2. Catat State yang paling baik untuk observasi {'clean', 'clean',’walk’, ‘walk’, ‘shop’} dari model yang ada\u001b[0m\u001b[0;34m\u001b[0m\u001b[0;34m\u001b[0m\u001b[0;34m\u001b[0m\u001b[0m\n\u001b[1;32m      2\u001b[0m \u001b[0;34m\u001b[0m\u001b[0m\n\u001b[0;32m----> 3\u001b[0;31m \u001b[0mlogprob\u001b[0m\u001b[0;34m,\u001b[0m \u001b[0mseq\u001b[0m \u001b[0;34m=\u001b[0m \u001b[0mmodels\u001b[0m\u001b[0;34m.\u001b[0m\u001b[0mdecode\u001b[0m\u001b[0;34m(\u001b[0m\u001b[0mnp\u001b[0m\u001b[0;34m.\u001b[0m\u001b[0marray\u001b[0m\u001b[0;34m(\u001b[0m\u001b[0;34m[\u001b[0m\u001b[0;34m[\u001b[0m\u001b[0;36m2\u001b[0m\u001b[0;34m,\u001b[0m \u001b[0;36m2\u001b[0m\u001b[0;34m,\u001b[0m \u001b[0;36m0\u001b[0m\u001b[0;34m,\u001b[0m \u001b[0;36m0\u001b[0m\u001b[0;34m,\u001b[0m \u001b[0;36m1\u001b[0m\u001b[0;34m]\u001b[0m\u001b[0;34m]\u001b[0m\u001b[0;34m)\u001b[0m\u001b[0;34m.\u001b[0m\u001b[0mtranspose\u001b[0m\u001b[0;34m(\u001b[0m\u001b[0;34m)\u001b[0m\u001b[0;34m)\u001b[0m\u001b[0;34m\u001b[0m\u001b[0;34m\u001b[0m\u001b[0m\n\u001b[0m\u001b[1;32m      4\u001b[0m \u001b[0mprint\u001b[0m\u001b[0;34m(\u001b[0m\u001b[0mmath\u001b[0m\u001b[0;34m.\u001b[0m\u001b[0mexp\u001b[0m\u001b[0;34m(\u001b[0m\u001b[0mlogprob\u001b[0m\u001b[0;34m)\u001b[0m\u001b[0;34m)\u001b[0m\u001b[0;34m\u001b[0m\u001b[0;34m\u001b[0m\u001b[0m\n\u001b[1;32m      5\u001b[0m \u001b[0mprint\u001b[0m\u001b[0;34m(\u001b[0m\u001b[0mseq\u001b[0m\u001b[0;34m)\u001b[0m\u001b[0;34m\u001b[0m\u001b[0;34m\u001b[0m\u001b[0m\n",
      "\u001b[0;31mNameError\u001b[0m: name 'models' is not defined"
     ]
    }
   ],
   "source": [
    "# 2. Catat State yang paling baik untuk observasi {'clean', 'clean',’walk’, ‘walk’, ‘shop’} dari model yang ada\n",
    "\n",
    "logprob, seq = models.decode(np.array([[2, 2, 0, 0, 1]]).transpose())\n",
    "print(math.exp(logprob))\n",
    "print(seq)"
   ]
  },
  {
   "cell_type": "code",
   "execution_count": null,
   "id": "4c0109e9",
   "metadata": {},
   "outputs": [],
   "source": []
  }
 ],
 "metadata": {
  "kernelspec": {
   "display_name": "Python 3",
   "language": "python",
   "name": "python3"
  },
  "language_info": {
   "codemirror_mode": {
    "name": "ipython",
    "version": 3
   },
   "file_extension": ".py",
   "mimetype": "text/x-python",
   "name": "python",
   "nbconvert_exporter": "python",
   "pygments_lexer": "ipython3",
   "version": "3.9.0"
  }
 },
 "nbformat": 4,
 "nbformat_minor": 5
}
